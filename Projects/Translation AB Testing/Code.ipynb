{
 "cells": [
  {
   "cell_type": "markdown",
   "id": "fd38d9f6",
   "metadata": {},
   "source": [
    "# Translation - AB Testing "
   ]
  },
  {
   "cell_type": "markdown",
   "id": "a6c0ae97",
   "metadata": {},
   "source": [
    "# Goal\n",
    "* XYZ is a worldwide e-commerce site with localized versions of the site.\n",
    "* A data scientist at XYZ noticed that Spain-based users have a much higher conversion rate than any other Spanish-speaking country. She therefore went and talked to the international team in charge of Spain And LatAm to see if they had any ideas about why that was happening.\n",
    "* Spain and LatAm country manager suggested that one reason could be translation. All Spanish - speaking countries had the same translation of the site which was written by a Spaniard. They agreed to try a test where each country would have its one translation written by a local. That is, Argentinian users would see a translation written by an Argentinian, Mexican users by a Mexican and so on. Obviously, nothing would change for users from Spain.\n",
    "* After they run the test however, they are really surprised cause the test is negative. I.e., it appears that the non-localized translation was doing better!\n",
    "* <span class=\"mark\">**This project is to**</span>:\n",
    "    * Confirm that the test is actually negative. That is, it appears that the old version of the site with just one translation across Spain and LatAm performs better\n",
    "    * Explain why that might be happening. Are the localized translations really worse?\n",
    "    * If you identified what was wrong, design an algorithm that would return FALSE if the same problem is happening in the future and TRUE if everything is good and the results can be trusted."
   ]
  },
  {
   "cell_type": "markdown",
   "id": "bccff6de",
   "metadata": {},
   "source": [
    "# Columns:\n",
    "* `user_id` : the id of the user. Unique by user. Can be joined to user id in the other table. For each user, we just check whether conversion happens the first time they land on the site since the test started.\n",
    "* `date` : when they came to the site for the first time since the test started\n",
    "* `source` : marketing channel: Ads, SEO, Direct . Direct means everything except for ads and SEO. Such as directly typing site URL on the browser, downloading the app w/o coming from SEO or Ads, referral friend, etc.\n",
    "* `device` : device used by the user. It can be mobile or web\n",
    "* `browser_language` : in browser or app settings, the language chosen by the user. It can be EN, ES, Other (Other means any language except for English and Spanish) \n",
    "* `ads_channel` : if marketing channel is ads, this is the site where the ad was displayed. It can be: Google, Facebook, Bing, Yahoo ,Other. If the user didn't come via an ad, this field is NA\n",
    "* `browser` : user browser. It can be: IE, Chrome, Android_App, FireFox, Iphone_App, Safari, Opera\n",
    "* `conversion` : whether the user converted (1) or not (0). This is our label. A test is considered successful if it increases the proportion of users who convert.\n",
    "* `test` : users are randomly split into test (1) and control (0). Test users see the new translation and control the old one. For Spain-based users, this is obviously always 0 since there is no change there."
   ]
  },
  {
   "cell_type": "code",
   "execution_count": 2,
   "id": "2f30eacb-d285-496f-9a5d-e5e1904b0550",
   "metadata": {
    "ExecuteTime": {
     "end_time": "2023-01-11T21:02:26.486553Z",
     "start_time": "2023-01-11T21:02:24.550097Z"
    }
   },
   "outputs": [],
   "source": [
    "import pandas as pd\n",
    "import numpy as np\n",
    "import matplotlib.pyplot as plt\n",
    "import seaborn as sns\n",
    "from scipy.stats import ttest_ind\n",
    "\n",
    "np.warnings.filterwarnings('ignore')"
   ]
  },
  {
   "cell_type": "markdown",
   "id": "b173cdb9",
   "metadata": {},
   "source": [
    "# 1.Load Dataset"
   ]
  },
  {
   "cell_type": "code",
   "execution_count": 3,
   "id": "6c31876f",
   "metadata": {
    "ExecuteTime": {
     "end_time": "2023-01-11T21:02:26.906074Z",
     "start_time": "2023-01-11T21:02:26.488039Z"
    }
   },
   "outputs": [],
   "source": [
    "test = pd.read_csv('test_table.csv',parse_dates=['date'])\n",
    "user = pd.read_csv('user_table.csv')"
   ]
  },
  {
   "cell_type": "code",
   "execution_count": 4,
   "id": "9a6c7d8f",
   "metadata": {
    "ExecuteTime": {
     "end_time": "2023-01-11T21:02:26.919470Z",
     "start_time": "2023-01-11T21:02:26.907332Z"
    },
    "scrolled": true
   },
   "outputs": [
    {
     "data": {
      "text/html": [
       "<div>\n",
       "<style scoped>\n",
       "    .dataframe tbody tr th:only-of-type {\n",
       "        vertical-align: middle;\n",
       "    }\n",
       "\n",
       "    .dataframe tbody tr th {\n",
       "        vertical-align: top;\n",
       "    }\n",
       "\n",
       "    .dataframe thead th {\n",
       "        text-align: right;\n",
       "    }\n",
       "</style>\n",
       "<table border=\"1\" class=\"dataframe\">\n",
       "  <thead>\n",
       "    <tr style=\"text-align: right;\">\n",
       "      <th></th>\n",
       "      <th>user_id</th>\n",
       "      <th>date</th>\n",
       "      <th>source</th>\n",
       "      <th>device</th>\n",
       "      <th>browser_language</th>\n",
       "      <th>ads_channel</th>\n",
       "      <th>browser</th>\n",
       "      <th>conversion</th>\n",
       "      <th>test</th>\n",
       "    </tr>\n",
       "  </thead>\n",
       "  <tbody>\n",
       "    <tr>\n",
       "      <th>0</th>\n",
       "      <td>315281</td>\n",
       "      <td>2015-12-03</td>\n",
       "      <td>Direct</td>\n",
       "      <td>Web</td>\n",
       "      <td>ES</td>\n",
       "      <td>NaN</td>\n",
       "      <td>IE</td>\n",
       "      <td>1</td>\n",
       "      <td>0</td>\n",
       "    </tr>\n",
       "    <tr>\n",
       "      <th>1</th>\n",
       "      <td>497851</td>\n",
       "      <td>2015-12-04</td>\n",
       "      <td>Ads</td>\n",
       "      <td>Web</td>\n",
       "      <td>ES</td>\n",
       "      <td>Google</td>\n",
       "      <td>IE</td>\n",
       "      <td>0</td>\n",
       "      <td>1</td>\n",
       "    </tr>\n",
       "    <tr>\n",
       "      <th>2</th>\n",
       "      <td>848402</td>\n",
       "      <td>2015-12-04</td>\n",
       "      <td>Ads</td>\n",
       "      <td>Web</td>\n",
       "      <td>ES</td>\n",
       "      <td>Facebook</td>\n",
       "      <td>Chrome</td>\n",
       "      <td>0</td>\n",
       "      <td>0</td>\n",
       "    </tr>\n",
       "    <tr>\n",
       "      <th>3</th>\n",
       "      <td>290051</td>\n",
       "      <td>2015-12-03</td>\n",
       "      <td>Ads</td>\n",
       "      <td>Mobile</td>\n",
       "      <td>Other</td>\n",
       "      <td>Facebook</td>\n",
       "      <td>Android_App</td>\n",
       "      <td>0</td>\n",
       "      <td>1</td>\n",
       "    </tr>\n",
       "    <tr>\n",
       "      <th>4</th>\n",
       "      <td>548435</td>\n",
       "      <td>2015-11-30</td>\n",
       "      <td>Ads</td>\n",
       "      <td>Web</td>\n",
       "      <td>ES</td>\n",
       "      <td>Google</td>\n",
       "      <td>FireFox</td>\n",
       "      <td>0</td>\n",
       "      <td>1</td>\n",
       "    </tr>\n",
       "  </tbody>\n",
       "</table>\n",
       "</div>"
      ],
      "text/plain": [
       "   user_id       date  source  device browser_language ads_channel  \\\n",
       "0   315281 2015-12-03  Direct     Web               ES         NaN   \n",
       "1   497851 2015-12-04     Ads     Web               ES      Google   \n",
       "2   848402 2015-12-04     Ads     Web               ES    Facebook   \n",
       "3   290051 2015-12-03     Ads  Mobile            Other    Facebook   \n",
       "4   548435 2015-11-30     Ads     Web               ES      Google   \n",
       "\n",
       "       browser  conversion  test  \n",
       "0           IE           1     0  \n",
       "1           IE           0     1  \n",
       "2       Chrome           0     0  \n",
       "3  Android_App           0     1  \n",
       "4      FireFox           0     1  "
      ]
     },
     "execution_count": 4,
     "metadata": {},
     "output_type": "execute_result"
    }
   ],
   "source": [
    "test.head(5)"
   ]
  },
  {
   "cell_type": "code",
   "execution_count": 5,
   "id": "3fa41acf",
   "metadata": {
    "ExecuteTime": {
     "end_time": "2023-01-11T21:02:26.925102Z",
     "start_time": "2023-01-11T21:02:26.920551Z"
    }
   },
   "outputs": [
    {
     "data": {
      "text/html": [
       "<div>\n",
       "<style scoped>\n",
       "    .dataframe tbody tr th:only-of-type {\n",
       "        vertical-align: middle;\n",
       "    }\n",
       "\n",
       "    .dataframe tbody tr th {\n",
       "        vertical-align: top;\n",
       "    }\n",
       "\n",
       "    .dataframe thead th {\n",
       "        text-align: right;\n",
       "    }\n",
       "</style>\n",
       "<table border=\"1\" class=\"dataframe\">\n",
       "  <thead>\n",
       "    <tr style=\"text-align: right;\">\n",
       "      <th></th>\n",
       "      <th>user_id</th>\n",
       "      <th>sex</th>\n",
       "      <th>age</th>\n",
       "      <th>country</th>\n",
       "    </tr>\n",
       "  </thead>\n",
       "  <tbody>\n",
       "    <tr>\n",
       "      <th>0</th>\n",
       "      <td>765821</td>\n",
       "      <td>M</td>\n",
       "      <td>20</td>\n",
       "      <td>Mexico</td>\n",
       "    </tr>\n",
       "    <tr>\n",
       "      <th>1</th>\n",
       "      <td>343561</td>\n",
       "      <td>F</td>\n",
       "      <td>27</td>\n",
       "      <td>Nicaragua</td>\n",
       "    </tr>\n",
       "    <tr>\n",
       "      <th>2</th>\n",
       "      <td>118744</td>\n",
       "      <td>M</td>\n",
       "      <td>23</td>\n",
       "      <td>Colombia</td>\n",
       "    </tr>\n",
       "    <tr>\n",
       "      <th>3</th>\n",
       "      <td>987753</td>\n",
       "      <td>F</td>\n",
       "      <td>27</td>\n",
       "      <td>Venezuela</td>\n",
       "    </tr>\n",
       "    <tr>\n",
       "      <th>4</th>\n",
       "      <td>554597</td>\n",
       "      <td>F</td>\n",
       "      <td>20</td>\n",
       "      <td>Spain</td>\n",
       "    </tr>\n",
       "  </tbody>\n",
       "</table>\n",
       "</div>"
      ],
      "text/plain": [
       "   user_id sex  age    country\n",
       "0   765821   M   20     Mexico\n",
       "1   343561   F   27  Nicaragua\n",
       "2   118744   M   23   Colombia\n",
       "3   987753   F   27  Venezuela\n",
       "4   554597   F   20      Spain"
      ]
     },
     "execution_count": 5,
     "metadata": {},
     "output_type": "execute_result"
    }
   ],
   "source": [
    "user.head(5)"
   ]
  },
  {
   "cell_type": "code",
   "execution_count": 6,
   "id": "ae9d45e4",
   "metadata": {
    "ExecuteTime": {
     "end_time": "2023-01-11T21:02:26.942870Z",
     "start_time": "2023-01-11T21:02:26.927276Z"
    }
   },
   "outputs": [
    {
     "data": {
      "text/plain": [
       "453321"
      ]
     },
     "execution_count": 6,
     "metadata": {},
     "output_type": "execute_result"
    }
   ],
   "source": [
    "test['user_id'].nunique()"
   ]
  },
  {
   "cell_type": "code",
   "execution_count": 7,
   "id": "767450e4",
   "metadata": {
    "ExecuteTime": {
     "end_time": "2023-01-11T21:02:26.958632Z",
     "start_time": "2023-01-11T21:02:26.944391Z"
    }
   },
   "outputs": [
    {
     "data": {
      "text/plain": [
       "452867"
      ]
     },
     "execution_count": 7,
     "metadata": {},
     "output_type": "execute_result"
    }
   ],
   "source": [
    "user['user_id'].nunique()"
   ]
  },
  {
   "cell_type": "code",
   "execution_count": 8,
   "id": "a2d243e0",
   "metadata": {
    "ExecuteTime": {
     "end_time": "2023-01-11T21:02:27.079092Z",
     "start_time": "2023-01-11T21:02:26.959807Z"
    }
   },
   "outputs": [],
   "source": [
    "# merge two table on user_id\n",
    "df = pd.merge(test,user, left_on='user_id',right_on='user_id',how='inner')"
   ]
  },
  {
   "cell_type": "code",
   "execution_count": 9,
   "id": "7ba7a11d",
   "metadata": {
    "ExecuteTime": {
     "end_time": "2023-01-11T21:02:27.086522Z",
     "start_time": "2023-01-11T21:02:27.080093Z"
    }
   },
   "outputs": [
    {
     "data": {
      "text/html": [
       "<div>\n",
       "<style scoped>\n",
       "    .dataframe tbody tr th:only-of-type {\n",
       "        vertical-align: middle;\n",
       "    }\n",
       "\n",
       "    .dataframe tbody tr th {\n",
       "        vertical-align: top;\n",
       "    }\n",
       "\n",
       "    .dataframe thead th {\n",
       "        text-align: right;\n",
       "    }\n",
       "</style>\n",
       "<table border=\"1\" class=\"dataframe\">\n",
       "  <thead>\n",
       "    <tr style=\"text-align: right;\">\n",
       "      <th></th>\n",
       "      <th>user_id</th>\n",
       "      <th>date</th>\n",
       "      <th>source</th>\n",
       "      <th>device</th>\n",
       "      <th>browser_language</th>\n",
       "      <th>ads_channel</th>\n",
       "      <th>browser</th>\n",
       "      <th>conversion</th>\n",
       "      <th>test</th>\n",
       "      <th>sex</th>\n",
       "      <th>age</th>\n",
       "      <th>country</th>\n",
       "    </tr>\n",
       "  </thead>\n",
       "  <tbody>\n",
       "    <tr>\n",
       "      <th>0</th>\n",
       "      <td>315281</td>\n",
       "      <td>2015-12-03</td>\n",
       "      <td>Direct</td>\n",
       "      <td>Web</td>\n",
       "      <td>ES</td>\n",
       "      <td>NaN</td>\n",
       "      <td>IE</td>\n",
       "      <td>1</td>\n",
       "      <td>0</td>\n",
       "      <td>M</td>\n",
       "      <td>32</td>\n",
       "      <td>Spain</td>\n",
       "    </tr>\n",
       "    <tr>\n",
       "      <th>1</th>\n",
       "      <td>497851</td>\n",
       "      <td>2015-12-04</td>\n",
       "      <td>Ads</td>\n",
       "      <td>Web</td>\n",
       "      <td>ES</td>\n",
       "      <td>Google</td>\n",
       "      <td>IE</td>\n",
       "      <td>0</td>\n",
       "      <td>1</td>\n",
       "      <td>M</td>\n",
       "      <td>21</td>\n",
       "      <td>Mexico</td>\n",
       "    </tr>\n",
       "    <tr>\n",
       "      <th>2</th>\n",
       "      <td>848402</td>\n",
       "      <td>2015-12-04</td>\n",
       "      <td>Ads</td>\n",
       "      <td>Web</td>\n",
       "      <td>ES</td>\n",
       "      <td>Facebook</td>\n",
       "      <td>Chrome</td>\n",
       "      <td>0</td>\n",
       "      <td>0</td>\n",
       "      <td>M</td>\n",
       "      <td>34</td>\n",
       "      <td>Spain</td>\n",
       "    </tr>\n",
       "    <tr>\n",
       "      <th>3</th>\n",
       "      <td>290051</td>\n",
       "      <td>2015-12-03</td>\n",
       "      <td>Ads</td>\n",
       "      <td>Mobile</td>\n",
       "      <td>Other</td>\n",
       "      <td>Facebook</td>\n",
       "      <td>Android_App</td>\n",
       "      <td>0</td>\n",
       "      <td>1</td>\n",
       "      <td>F</td>\n",
       "      <td>22</td>\n",
       "      <td>Mexico</td>\n",
       "    </tr>\n",
       "    <tr>\n",
       "      <th>4</th>\n",
       "      <td>548435</td>\n",
       "      <td>2015-11-30</td>\n",
       "      <td>Ads</td>\n",
       "      <td>Web</td>\n",
       "      <td>ES</td>\n",
       "      <td>Google</td>\n",
       "      <td>FireFox</td>\n",
       "      <td>0</td>\n",
       "      <td>1</td>\n",
       "      <td>M</td>\n",
       "      <td>19</td>\n",
       "      <td>Mexico</td>\n",
       "    </tr>\n",
       "  </tbody>\n",
       "</table>\n",
       "</div>"
      ],
      "text/plain": [
       "   user_id       date  source  device browser_language ads_channel  \\\n",
       "0   315281 2015-12-03  Direct     Web               ES         NaN   \n",
       "1   497851 2015-12-04     Ads     Web               ES      Google   \n",
       "2   848402 2015-12-04     Ads     Web               ES    Facebook   \n",
       "3   290051 2015-12-03     Ads  Mobile            Other    Facebook   \n",
       "4   548435 2015-11-30     Ads     Web               ES      Google   \n",
       "\n",
       "       browser  conversion  test sex  age country  \n",
       "0           IE           1     0   M   32   Spain  \n",
       "1           IE           0     1   M   21  Mexico  \n",
       "2       Chrome           0     0   M   34   Spain  \n",
       "3  Android_App           0     1   F   22  Mexico  \n",
       "4      FireFox           0     1   M   19  Mexico  "
      ]
     },
     "execution_count": 9,
     "metadata": {},
     "output_type": "execute_result"
    }
   ],
   "source": [
    "df.head()"
   ]
  },
  {
   "cell_type": "code",
   "execution_count": 10,
   "id": "aaa1ac2f",
   "metadata": {
    "ExecuteTime": {
     "end_time": "2023-01-11T21:02:27.141031Z",
     "start_time": "2023-01-11T21:02:27.087839Z"
    }
   },
   "outputs": [
    {
     "data": {
      "text/html": [
       "<div>\n",
       "<style scoped>\n",
       "    .dataframe tbody tr th:only-of-type {\n",
       "        vertical-align: middle;\n",
       "    }\n",
       "\n",
       "    .dataframe tbody tr th {\n",
       "        vertical-align: top;\n",
       "    }\n",
       "\n",
       "    .dataframe thead th {\n",
       "        text-align: right;\n",
       "    }\n",
       "</style>\n",
       "<table border=\"1\" class=\"dataframe\">\n",
       "  <thead>\n",
       "    <tr style=\"text-align: right;\">\n",
       "      <th></th>\n",
       "      <th>count</th>\n",
       "      <th>mean</th>\n",
       "      <th>std</th>\n",
       "      <th>min</th>\n",
       "      <th>25%</th>\n",
       "      <th>50%</th>\n",
       "      <th>75%</th>\n",
       "      <th>max</th>\n",
       "    </tr>\n",
       "  </thead>\n",
       "  <tbody>\n",
       "    <tr>\n",
       "      <th>user_id</th>\n",
       "      <td>452867.0</td>\n",
       "      <td>499944.805166</td>\n",
       "      <td>288676.264784</td>\n",
       "      <td>1.0</td>\n",
       "      <td>249819.0</td>\n",
       "      <td>500019.0</td>\n",
       "      <td>749543.0</td>\n",
       "      <td>1000000.0</td>\n",
       "    </tr>\n",
       "    <tr>\n",
       "      <th>conversion</th>\n",
       "      <td>452867.0</td>\n",
       "      <td>0.049560</td>\n",
       "      <td>0.217034</td>\n",
       "      <td>0.0</td>\n",
       "      <td>0.0</td>\n",
       "      <td>0.0</td>\n",
       "      <td>0.0</td>\n",
       "      <td>1.0</td>\n",
       "    </tr>\n",
       "    <tr>\n",
       "      <th>test</th>\n",
       "      <td>452867.0</td>\n",
       "      <td>0.476462</td>\n",
       "      <td>0.499446</td>\n",
       "      <td>0.0</td>\n",
       "      <td>0.0</td>\n",
       "      <td>0.0</td>\n",
       "      <td>1.0</td>\n",
       "      <td>1.0</td>\n",
       "    </tr>\n",
       "    <tr>\n",
       "      <th>age</th>\n",
       "      <td>452867.0</td>\n",
       "      <td>27.130740</td>\n",
       "      <td>6.776678</td>\n",
       "      <td>18.0</td>\n",
       "      <td>22.0</td>\n",
       "      <td>26.0</td>\n",
       "      <td>31.0</td>\n",
       "      <td>70.0</td>\n",
       "    </tr>\n",
       "  </tbody>\n",
       "</table>\n",
       "</div>"
      ],
      "text/plain": [
       "               count           mean            std   min       25%       50%  \\\n",
       "user_id     452867.0  499944.805166  288676.264784   1.0  249819.0  500019.0   \n",
       "conversion  452867.0       0.049560       0.217034   0.0       0.0       0.0   \n",
       "test        452867.0       0.476462       0.499446   0.0       0.0       0.0   \n",
       "age         452867.0      27.130740       6.776678  18.0      22.0      26.0   \n",
       "\n",
       "                 75%        max  \n",
       "user_id     749543.0  1000000.0  \n",
       "conversion       0.0        1.0  \n",
       "test             1.0        1.0  \n",
       "age             31.0       70.0  "
      ]
     },
     "execution_count": 10,
     "metadata": {},
     "output_type": "execute_result"
    }
   ],
   "source": [
    "df.describe().T"
   ]
  },
  {
   "cell_type": "markdown",
   "id": "9cd3fb79",
   "metadata": {},
   "source": [
    "* The average conversion rate is around 0.04956\n",
    "* average users' age is around 27"
   ]
  },
  {
   "cell_type": "code",
   "execution_count": 11,
   "id": "daabbad9",
   "metadata": {
    "ExecuteTime": {
     "end_time": "2023-01-11T21:02:27.455586Z",
     "start_time": "2023-01-11T21:02:27.142467Z"
    }
   },
   "outputs": [
    {
     "data": {
      "text/html": [
       "<div>\n",
       "<style scoped>\n",
       "    .dataframe tbody tr th:only-of-type {\n",
       "        vertical-align: middle;\n",
       "    }\n",
       "\n",
       "    .dataframe tbody tr th {\n",
       "        vertical-align: top;\n",
       "    }\n",
       "\n",
       "    .dataframe thead th {\n",
       "        text-align: right;\n",
       "    }\n",
       "</style>\n",
       "<table border=\"1\" class=\"dataframe\">\n",
       "  <thead>\n",
       "    <tr style=\"text-align: right;\">\n",
       "      <th></th>\n",
       "      <th>count</th>\n",
       "      <th>unique</th>\n",
       "      <th>top</th>\n",
       "      <th>freq</th>\n",
       "    </tr>\n",
       "  </thead>\n",
       "  <tbody>\n",
       "    <tr>\n",
       "      <th>source</th>\n",
       "      <td>452867</td>\n",
       "      <td>3</td>\n",
       "      <td>Ads</td>\n",
       "      <td>181693</td>\n",
       "    </tr>\n",
       "    <tr>\n",
       "      <th>device</th>\n",
       "      <td>452867</td>\n",
       "      <td>2</td>\n",
       "      <td>Web</td>\n",
       "      <td>251316</td>\n",
       "    </tr>\n",
       "    <tr>\n",
       "      <th>browser_language</th>\n",
       "      <td>452867</td>\n",
       "      <td>3</td>\n",
       "      <td>ES</td>\n",
       "      <td>377160</td>\n",
       "    </tr>\n",
       "    <tr>\n",
       "      <th>ads_channel</th>\n",
       "      <td>181693</td>\n",
       "      <td>5</td>\n",
       "      <td>Facebook</td>\n",
       "      <td>68358</td>\n",
       "    </tr>\n",
       "    <tr>\n",
       "      <th>browser</th>\n",
       "      <td>452867</td>\n",
       "      <td>7</td>\n",
       "      <td>Android_App</td>\n",
       "      <td>154977</td>\n",
       "    </tr>\n",
       "    <tr>\n",
       "      <th>sex</th>\n",
       "      <td>452867</td>\n",
       "      <td>2</td>\n",
       "      <td>M</td>\n",
       "      <td>264485</td>\n",
       "    </tr>\n",
       "    <tr>\n",
       "      <th>country</th>\n",
       "      <td>452867</td>\n",
       "      <td>17</td>\n",
       "      <td>Mexico</td>\n",
       "      <td>128484</td>\n",
       "    </tr>\n",
       "  </tbody>\n",
       "</table>\n",
       "</div>"
      ],
      "text/plain": [
       "                   count unique          top    freq\n",
       "source            452867      3          Ads  181693\n",
       "device            452867      2          Web  251316\n",
       "browser_language  452867      3           ES  377160\n",
       "ads_channel       181693      5     Facebook   68358\n",
       "browser           452867      7  Android_App  154977\n",
       "sex               452867      2            M  264485\n",
       "country           452867     17       Mexico  128484"
      ]
     },
     "execution_count": 11,
     "metadata": {},
     "output_type": "execute_result"
    }
   ],
   "source": [
    "df.describe(include='O').T"
   ]
  },
  {
   "cell_type": "code",
   "execution_count": 12,
   "id": "1316b72f",
   "metadata": {
    "ExecuteTime": {
     "end_time": "2023-01-11T21:02:27.748507Z",
     "start_time": "2023-01-11T21:02:27.456856Z"
    }
   },
   "outputs": [
    {
     "data": {
      "text/plain": [
       "user_id                  0\n",
       "date                     0\n",
       "source                   0\n",
       "device                   0\n",
       "browser_language         0\n",
       "ads_channel         271174\n",
       "browser                  0\n",
       "conversion               0\n",
       "test                     0\n",
       "sex                      0\n",
       "age                      0\n",
       "country                  0\n",
       "dtype: int64"
      ]
     },
     "execution_count": 12,
     "metadata": {},
     "output_type": "execute_result"
    }
   ],
   "source": [
    "df.isna().sum()\n",
    "\n",
    "#271174 null values in ads_channel"
   ]
  },
  {
   "cell_type": "code",
   "execution_count": 13,
   "id": "ee2a7435",
   "metadata": {
    "ExecuteTime": {
     "end_time": "2023-01-11T21:02:27.763116Z",
     "start_time": "2023-01-11T21:02:27.749612Z"
    }
   },
   "outputs": [
    {
     "data": {
      "text/plain": [
       "NaN         271174\n",
       "Facebook     68358\n",
       "Google       68113\n",
       "Yahoo        27409\n",
       "Bing         13670\n",
       "Other         4143\n",
       "Name: ads_channel, dtype: int64"
      ]
     },
     "execution_count": 13,
     "metadata": {},
     "output_type": "execute_result"
    }
   ],
   "source": [
    "df.ads_channel.value_counts(dropna=False)"
   ]
  },
  {
   "cell_type": "code",
   "execution_count": 14,
   "id": "5c853936",
   "metadata": {
    "ExecuteTime": {
     "end_time": "2023-01-11T21:02:28.765835Z",
     "start_time": "2023-01-11T21:02:27.764300Z"
    }
   },
   "outputs": [],
   "source": [
    "# fill null values with missing\n",
    "df.fillna('Others',inplace=True)"
   ]
  },
  {
   "cell_type": "code",
   "execution_count": 15,
   "id": "308250c8",
   "metadata": {
    "ExecuteTime": {
     "end_time": "2023-01-11T21:02:29.059982Z",
     "start_time": "2023-01-11T21:02:28.768726Z"
    }
   },
   "outputs": [
    {
     "data": {
      "text/plain": [
       "user_id             0\n",
       "date                0\n",
       "source              0\n",
       "device              0\n",
       "browser_language    0\n",
       "ads_channel         0\n",
       "browser             0\n",
       "conversion          0\n",
       "test                0\n",
       "sex                 0\n",
       "age                 0\n",
       "country             0\n",
       "dtype: int64"
      ]
     },
     "execution_count": 15,
     "metadata": {},
     "output_type": "execute_result"
    }
   ],
   "source": [
    "df.isna().sum()"
   ]
  },
  {
   "cell_type": "markdown",
   "id": "9c89986f",
   "metadata": {},
   "source": [
    "# 2. Confirm that the test is actually negative. That is, it appears that the old version of the site with just one translation across Spain and LatAm performs better"
   ]
  },
  {
   "cell_type": "markdown",
   "id": "d6cf7b3b",
   "metadata": {},
   "source": [
    "**Check if Spain is actually larger than the rest countries**"
   ]
  },
  {
   "cell_type": "code",
   "execution_count": 16,
   "id": "6295f908",
   "metadata": {
    "ExecuteTime": {
     "end_time": "2023-01-11T21:02:29.086635Z",
     "start_time": "2023-01-11T21:02:29.061009Z"
    }
   },
   "outputs": [],
   "source": [
    "country_cvt = df.groupby('country')['conversion'].mean().to_frame('conversion').reset_index()"
   ]
  },
  {
   "cell_type": "code",
   "execution_count": 17,
   "id": "7265ec4e",
   "metadata": {
    "ExecuteTime": {
     "end_time": "2023-01-11T21:02:29.235002Z",
     "start_time": "2023-01-11T21:02:29.087702Z"
    }
   },
   "outputs": [
    {
     "data": {
      "image/png": "[encoded data removed]",
      "text/plain": [
       "<Figure size 640x480 with 1 Axes>"
      ]
     },
     "metadata": {},
     "output_type": "display_data"
    }
   ],
   "source": [
    "country_cvt = country_cvt.sort_values(ascending=False,by='conversion')\n",
    "sns.barplot(data=country_cvt,y='country',x='conversion',palette='viridis')\n",
    "plt.title('conversion rate of each country');"
   ]
  },
  {
   "cell_type": "markdown",
   "id": "9c2cb0b0",
   "metadata": {},
   "source": [
    "**Yes. Indeed Spain is doing better in general.**"
   ]
  },
  {
   "cell_type": "code",
   "execution_count": 18,
   "id": "49147f7c",
   "metadata": {
    "ExecuteTime": {
     "end_time": "2023-01-11T21:02:33.235690Z",
     "start_time": "2023-01-11T21:02:29.236103Z"
    }
   },
   "outputs": [
    {
     "data": {
      "image/png": "[encoded data removed]",
      "text/plain": [
       "<Figure size 640x480 with 1 Axes>"
      ]
     },
     "metadata": {},
     "output_type": "display_data"
    }
   ],
   "source": [
    "sns.barplot(data=df, \n",
    "            y='country', \n",
    "            x='conversion',\n",
    "            hue='test',\n",
    "            palette='viridis')\n",
    "plt.title('conversion rate of test and control of each country');"
   ]
  },
  {
   "cell_type": "code",
   "execution_count": 19,
   "id": "c51deccc",
   "metadata": {
    "ExecuteTime": {
     "end_time": "2023-01-11T21:02:34.937861Z",
     "start_time": "2023-01-11T21:02:34.805225Z"
    }
   },
   "outputs": [],
   "source": [
    "#Check the average conversion rate of each group across all countries\n",
    "test_avg = df[df['country']!='Spain']\n",
    "test_val = test_avg[test_avg['test']==1]['conversion']\n",
    "control_val = test_avg[test_avg['test']!=1]['conversion']"
   ]
  },
  {
   "cell_type": "code",
   "execution_count": 20,
   "id": "5bdb62c8",
   "metadata": {
    "ExecuteTime": {
     "end_time": "2023-01-11T21:02:35.742613Z",
     "start_time": "2023-01-11T21:02:35.730780Z"
    }
   },
   "outputs": [
    {
     "name": "stdout",
     "output_type": "stream",
     "text": [
      "test: 0.043411161678422794\n",
      "control: 0.04829179055749524\n"
     ]
    }
   ],
   "source": [
    "print('test:',test_val.mean())\n",
    "print('control:',control_val.mean())\n",
    "#test -> localized\n",
    "#control -> non-localized"
   ]
  },
  {
   "cell_type": "code",
   "execution_count": 21,
   "id": "14a4ff15",
   "metadata": {
    "ExecuteTime": {
     "end_time": "2023-01-11T21:02:36.842016Z",
     "start_time": "2023-01-11T21:02:36.823457Z"
    },
    "scrolled": true
   },
   "outputs": [
    {
     "name": "stdout",
     "output_type": "stream",
     "text": [
      "Ttest_indResult(statistic=-7.353895203080277, pvalue=1.9289178577799033e-13)\n"
     ]
    }
   ],
   "source": [
    "print(ttest_ind(test_val,control_val,equal_var=False))"
   ]
  },
  {
   "cell_type": "markdown",
   "id": "1784e9c5",
   "metadata": {},
   "source": [
    "**Conclusion**:\n",
    "* Because p value is small, the difference between test and control groups is significant\n",
    "* Statistics is negative -> test group is worse than the control group\n",
    "    * So, <span class=\"mark\">**the local-translation is worse**</span>"
   ]
  },
  {
   "cell_type": "markdown",
   "id": "e63c85ab",
   "metadata": {},
   "source": [
    "# 3. Why localization is worse? (Are they really worse?)"
   ]
  },
  {
   "cell_type": "markdown",
   "id": "338d065f",
   "metadata": {},
   "source": [
    "**Check randomization**\\\n",
    "Randomization is an important aspect of A/B testing because it helps to control for confounding variables and ensures that the groups being compared (the control group and the treatment group) are similar in all other aspects except for the variable being tested (the treatment).\n"
   ]
  },
  {
   "cell_type": "code",
   "execution_count": 23,
   "id": "c466fca6",
   "metadata": {
    "ExecuteTime": {
     "end_time": "2023-01-11T21:19:46.482107Z",
     "start_time": "2023-01-11T21:19:46.358556Z"
    }
   },
   "outputs": [],
   "source": [
    "tb = df[df['country']!='Spain']"
   ]
  },
  {
   "cell_type": "code",
   "execution_count": 48,
   "id": "bddc521b",
   "metadata": {
    "ExecuteTime": {
     "end_time": "2023-01-11T22:03:02.706621Z",
     "start_time": "2023-01-11T22:03:02.056079Z"
    }
   },
   "outputs": [
    {
     "data": {
      "image/png": "[encoded data removed]",
      "text/plain": [
       "<Figure size 640x480 with 1 Axes>"
      ]
     },
     "metadata": {},
     "output_type": "display_data"
    }
   ],
   "source": [
    "import graphviz\n",
    "from sklearn.tree import DecisionTreeClassifier\n",
    "from sklearn.tree import export_graphviz\n",
    "from graphviz import Source\n",
    "from sklearn import tree\n",
    "\n",
    "data = tb.drop(['user_id', 'date'], axis=1)\n",
    "\n",
    "data_dummy = pd.get_dummies(data)\n",
    "#don't drop any dummies\n",
    "\n",
    "train_cols = data_dummy.drop(['test', 'conversion'], axis=1)\n",
    "\n",
    "clf = DecisionTreeClassifier(class_weight='balanced',\n",
    "                             min_impurity_decrease=0.001)\n",
    "clf.fit(train_cols, data_dummy['test'])\n",
    "\n",
    "tree.plot_tree(clf, filled=True, proportion=True, rounded=True,feature_names=train_cols.columns);"
   ]
  },
  {
   "cell_type": "markdown",
   "id": "fc6918cb",
   "metadata": {},
   "source": [
    "**Insights**:\n",
    "* Yes, it can be observed that Argentina and Uruguay are present in the decision tree. This may indicate that the randomization process was not effective. A decision tree is a machine learning algorithm that attempts to divide the data into distinct groups based on certain features. The goal of the algorithm is to find a split that maximizes the difference in the outcome of interest between the groups created by the split.\n",
    "* If the test and control groups were well randomized, there would be no clear splits in the tree, as the data would be evenly distributed among the groups and there would be no distinct patterns to base a split on. However, the presence of Argentina and Uruguay in the tree suggests that the randomization may not have been successful, and that there may be underlying factors that are influencing the results."
   ]
  },
  {
   "cell_type": "markdown",
   "id": "86a03f02",
   "metadata": {},
   "source": [
    "# 3. If you identified what was wrong, design an algorithm that would return FALSE if the same problem is happening in the future and TRUE if everything is good and the results can be trusted."
   ]
  },
  {
   "cell_type": "markdown",
   "id": "e72ad0fb",
   "metadata": {},
   "source": [
    "We can create a function/algorithm that checks whether the dataset is well randomized by analyzing the splits in a decision tree created from the data. The function can be designed to utilize the tree's structure and determine if there are any clear patterns in the data that would indicate a lack of randomization. The algorithm can be trained and tested on the dataset and if it find that the splits are not random, it would conclude that the data is not well randomized, otherwise the data is well randomized."
   ]
  },
  {
   "cell_type": "code",
   "execution_count": 53,
   "id": "c34fa7f7",
   "metadata": {
    "ExecuteTime": {
     "end_time": "2023-01-11T22:28:18.547677Z",
     "start_time": "2023-01-11T22:28:18.531454Z"
    }
   },
   "outputs": [],
   "source": [
    "def check_tree_split(data):\n",
    "    data_dummy = pd.get_dummies(data)\n",
    "    train_cols = data_dummy.drop(['test', 'conversion'], axis=1)\n",
    "    clf = DecisionTreeClassifier(class_weight='balanced', min_impurity_decrease=0.001)\n",
    "    clf.fit(train_cols, data_dummy['test'])\n",
    "    \n",
    "    n_nodes = clf.tree_.node_count\n",
    "    children_left = clf.tree_.children_left\n",
    "    children_right = clf.tree_.children_right\n",
    "    feature = clf.tree_.feature\n",
    "    threshold = clf.tree_.threshold\n",
    "\n",
    "    # Initialize the stack of nodes to visit\n",
    "    stack = [(0, -1)]  # seed is the root node id and its parent depth\n",
    "    while len(stack) > 0:\n",
    "        node_id, parent_depth = stack.pop()\n",
    "\n",
    "        # If we have a test node\n",
    "        if (children_left[node_id] != children_right[node_id]):\n",
    "            return True\n",
    "        else:\n",
    "            stack.append((children_left[node_id], parent_depth + 1))\n",
    "            stack.append((children_right[node_id], parent_depth + 1))\n",
    "    return False\n"
   ]
  },
  {
   "cell_type": "code",
   "execution_count": 55,
   "id": "c0563c58",
   "metadata": {
    "ExecuteTime": {
     "end_time": "2023-01-11T22:28:36.341825Z",
     "start_time": "2023-01-11T22:28:35.781007Z"
    }
   },
   "outputs": [
    {
     "name": "stdout",
     "output_type": "stream",
     "text": [
      "The tree has splits and is not well randomized.\n"
     ]
    }
   ],
   "source": [
    "data = tb.drop(['user_id', 'date'], axis=1)\n",
    "\n",
    "if check_tree_split(data):\n",
    "    print(\"The tree has splits and is not well randomized.\")\n",
    "else:\n",
    "    print(\"The tree does not have any splits and is well randomized.\")\n"
   ]
  },
  {
   "cell_type": "code",
   "execution_count": null,
   "id": "31040a0f",
   "metadata": {},
   "outputs": [],
   "source": []
  }
 ],
 "metadata": {
  "kernelspec": {
   "display_name": "Python 3 (ipykernel)",
   "language": "python",
   "name": "python3"
  },
  "language_info": {
   "codemirror_mode": {
    "name": "ipython",
    "version": 3
   },
   "file_extension": ".py",
   "mimetype": "text/x-python",
   "name": "python",
   "nbconvert_exporter": "python",
   "pygments_lexer": "ipython3",
   "version": "3.9.13"
  }
 },
 "nbformat": 4,
 "nbformat_minor": 5
}
