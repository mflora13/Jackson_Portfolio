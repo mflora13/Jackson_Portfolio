{
 "cells": [
  {
   "cell_type": "markdown",
   "id": "3b19753e-c0f9-4fc3-86a3-e888e262549f",
   "metadata": {},
   "source": [
    "# Employee Retention"
   ]
  },
  {
   "cell_type": "markdown",
   "id": "ad5faedc-798c-43e3-84ff-41b3c92054e9",
   "metadata": {},
   "source": [
    "## Goal"
   ]
  },
  {
   "cell_type": "markdown",
   "id": "a5e65127-e1fe-423c-a10e-969f53277894",
   "metadata": {},
   "source": [
    "* Employee turn-over is a very costly problem for companies. The cost of replacing an employee is often huge, taking into account the time spent to interview and find a replacement. placement fees, signo- n bonuses, the loss of productivity for several months and impact on company morale when you see coworkers leave.\n",
    "* It is only natural then that data science has started being applied to this area. Understanding why and when employees are most likely to leave can lead to actions to improve employee retention as well as planning new hiring in advance.\n",
    "* Goal: <span class=\"mark\">**to predict when employees are going to quit by understanding the main drivers of employee churn.**</span>"
   ]
  },
  {
   "cell_type": "markdown",
   "id": "b731825b-5123-441e-a327-7fcab38377a6",
   "metadata": {},
   "source": [
    "## Challenge Description"
   ]
  },
  {
   "cell_type": "markdown",
   "id": "c6da27e8-ac49-473f-ace9-8b59425ba83b",
   "metadata": {},
   "source": [
    "We got employee data from a few companies. We have data about all employees who joined from 2011/01/24 to 2015/12/13. For each employee, we also know if they are still at the company as of 2015/12/13 or they have quit. Beside that, we have general info about the employee, such as avg salary during her tenure, dept, and yrs of experience.\n",
    "As said above, the goal is to predict employee retention and understand its main drivers. Specifically:\n",
    "1. Assume, for each company, that the headcount starts from zero on 2011/01/23. Estimate employee headcount, for each company, on each day, from 2011/01/24 to 2015/12/13. That is, if by 2012/03/02 2000 people have joined company 1 and 1000 of them have already quit, then company headcount on 2012/03/02 for company 1 would be 1000. You should create a table with 3 columns: day, employee_headcount, company_id.\n",
    "2. What are the main factors that drive employee churn? Do they make sense? "
   ]
  },
  {
   "cell_type": "markdown",
   "id": "42eef54e-7361-4e14-98fc-e4c16fc12892",
   "metadata": {},
   "source": [
    "* employee_id : id of the employee. Unique by employee per company\n",
    "* company_id : company id. It is unique by company\n",
    "* dept : employee dept\n",
    "* seniority : number of yrs of work experience when hired\n",
    "* salary: avg yearly salary of the employee during her tenure within the company\n",
    "* join_date: when the employee joined the company, it can only be between 2011/01/24 and 2015/12/13 \n",
    "* quit_date: when the employee left her job (if she is still employed as of 2015/12/13, this field is NA)"
   ]
  },
  {
   "cell_type": "code",
   "execution_count": 368,
   "id": "d69bcf2a-8fb9-48e3-9c83-e3fa497d927a",
   "metadata": {
    "ExecuteTime": {
     "end_time": "2022-12-21T19:48:51.378194Z",
     "start_time": "2022-12-21T19:48:51.364655Z"
    }
   },
   "outputs": [],
   "source": [
    "import pandas as pd\n",
    "import numpy as np\n",
    "import matplotlib.pyplot as plt\n",
    "import seaborn as sns\n",
    "\n",
    "%matplotlib inline\n",
    "\n",
    "pd.set_option('display.max_columns',30)"
   ]
  },
  {
   "cell_type": "code",
   "execution_count": 369,
   "id": "f6650600-7a8f-4beb-9c30-9965fcfc777d",
   "metadata": {
    "ExecuteTime": {
     "end_time": "2022-12-21T19:48:51.406374Z",
     "start_time": "2022-12-21T19:48:51.382100Z"
    }
   },
   "outputs": [],
   "source": [
    "df = pd.read_csv('employee_retention_data.csv')"
   ]
  },
  {
   "cell_type": "code",
   "execution_count": 370,
   "id": "31b1d662-475b-491e-9f76-92163a3adaac",
   "metadata": {
    "ExecuteTime": {
     "end_time": "2022-12-21T19:48:51.414750Z",
     "start_time": "2022-12-21T19:48:51.407560Z"
    },
    "scrolled": true
   },
   "outputs": [
    {
     "data": {
      "text/html": [
       "<div>\n",
       "<style scoped>\n",
       "    .dataframe tbody tr th:only-of-type {\n",
       "        vertical-align: middle;\n",
       "    }\n",
       "\n",
       "    .dataframe tbody tr th {\n",
       "        vertical-align: top;\n",
       "    }\n",
       "\n",
       "    .dataframe thead th {\n",
       "        text-align: right;\n",
       "    }\n",
       "</style>\n",
       "<table border=\"1\" class=\"dataframe\">\n",
       "  <thead>\n",
       "    <tr style=\"text-align: right;\">\n",
       "      <th></th>\n",
       "      <th>employee_id</th>\n",
       "      <th>company_id</th>\n",
       "      <th>dept</th>\n",
       "      <th>seniority</th>\n",
       "      <th>salary</th>\n",
       "      <th>join_date</th>\n",
       "      <th>quit_date</th>\n",
       "    </tr>\n",
       "  </thead>\n",
       "  <tbody>\n",
       "    <tr>\n",
       "      <th>0</th>\n",
       "      <td>13021.0</td>\n",
       "      <td>7</td>\n",
       "      <td>customer_service</td>\n",
       "      <td>28</td>\n",
       "      <td>89000.0</td>\n",
       "      <td>2014-03-24</td>\n",
       "      <td>2015-10-30</td>\n",
       "    </tr>\n",
       "    <tr>\n",
       "      <th>1</th>\n",
       "      <td>825355.0</td>\n",
       "      <td>7</td>\n",
       "      <td>marketing</td>\n",
       "      <td>20</td>\n",
       "      <td>183000.0</td>\n",
       "      <td>2013-04-29</td>\n",
       "      <td>2014-04-04</td>\n",
       "    </tr>\n",
       "    <tr>\n",
       "      <th>2</th>\n",
       "      <td>927315.0</td>\n",
       "      <td>4</td>\n",
       "      <td>marketing</td>\n",
       "      <td>14</td>\n",
       "      <td>101000.0</td>\n",
       "      <td>2014-10-13</td>\n",
       "      <td>NaN</td>\n",
       "    </tr>\n",
       "    <tr>\n",
       "      <th>3</th>\n",
       "      <td>662910.0</td>\n",
       "      <td>7</td>\n",
       "      <td>customer_service</td>\n",
       "      <td>20</td>\n",
       "      <td>115000.0</td>\n",
       "      <td>2012-05-14</td>\n",
       "      <td>2013-06-07</td>\n",
       "    </tr>\n",
       "    <tr>\n",
       "      <th>4</th>\n",
       "      <td>256971.0</td>\n",
       "      <td>2</td>\n",
       "      <td>data_science</td>\n",
       "      <td>23</td>\n",
       "      <td>276000.0</td>\n",
       "      <td>2011-10-17</td>\n",
       "      <td>2014-08-22</td>\n",
       "    </tr>\n",
       "  </tbody>\n",
       "</table>\n",
       "</div>"
      ],
      "text/plain": [
       "   employee_id  company_id              dept  seniority    salary   join_date  \\\n",
       "0      13021.0           7  customer_service         28   89000.0  2014-03-24   \n",
       "1     825355.0           7         marketing         20  183000.0  2013-04-29   \n",
       "2     927315.0           4         marketing         14  101000.0  2014-10-13   \n",
       "3     662910.0           7  customer_service         20  115000.0  2012-05-14   \n",
       "4     256971.0           2      data_science         23  276000.0  2011-10-17   \n",
       "\n",
       "    quit_date  \n",
       "0  2015-10-30  \n",
       "1  2014-04-04  \n",
       "2         NaN  \n",
       "3  2013-06-07  \n",
       "4  2014-08-22  "
      ]
     },
     "execution_count": 370,
     "metadata": {},
     "output_type": "execute_result"
    }
   ],
   "source": [
    "df.head()"
   ]
  },
  {
   "cell_type": "markdown",
   "id": "bd72d604",
   "metadata": {},
   "source": [
    "If the employee has not quit their job/(the quit-date is null), we will label them as 1. If the employee has quit their job(the quit-date is not null), we will label them as 0."
   ]
  },
  {
   "cell_type": "code",
   "execution_count": 371,
   "id": "ae77b32f",
   "metadata": {
    "ExecuteTime": {
     "end_time": "2022-12-21T19:48:51.420169Z",
     "start_time": "2022-12-21T19:48:51.416256Z"
    }
   },
   "outputs": [],
   "source": [
    "df['Status'] = np.where(pd.isnull(df['quit_date']), 0, 1)\n",
    "#1 = left the company\n",
    "#0 = still in the company"
   ]
  },
  {
   "cell_type": "code",
   "execution_count": 372,
   "id": "6a27c3b9",
   "metadata": {
    "ExecuteTime": {
     "end_time": "2022-12-21T19:48:51.439194Z",
     "start_time": "2022-12-21T19:48:51.422835Z"
    }
   },
   "outputs": [
    {
     "name": "stdout",
     "output_type": "stream",
     "text": [
      "<class 'pandas.core.frame.DataFrame'>\n",
      "RangeIndex: 24702 entries, 0 to 24701\n",
      "Data columns (total 8 columns):\n",
      " #   Column       Non-Null Count  Dtype  \n",
      "---  ------       --------------  -----  \n",
      " 0   employee_id  24702 non-null  float64\n",
      " 1   company_id   24702 non-null  int64  \n",
      " 2   dept         24702 non-null  object \n",
      " 3   seniority    24702 non-null  int64  \n",
      " 4   salary       24702 non-null  float64\n",
      " 5   join_date    24702 non-null  object \n",
      " 6   quit_date    13510 non-null  object \n",
      " 7   Status       24702 non-null  int64  \n",
      "dtypes: float64(2), int64(3), object(3)\n",
      "memory usage: 1.5+ MB\n"
     ]
    }
   ],
   "source": [
    "df.info()"
   ]
  },
  {
   "cell_type": "code",
   "execution_count": 373,
   "id": "9f52402a",
   "metadata": {
    "ExecuteTime": {
     "end_time": "2022-12-21T19:48:51.451693Z",
     "start_time": "2022-12-21T19:48:51.440265Z"
    }
   },
   "outputs": [],
   "source": [
    "#employee_id and company_id should be object\n",
    "#join_date and quit_date should be date format\n",
    "\n",
    "df['employee_id'] = df['employee_id'].astype('object')\n",
    "df['company_id'] = df['company_id'].astype('object')\n",
    "\n",
    "df['join_date'] = df['join_date'].astype('datetime64[ns]', errors='ignore')\n",
    "df['quit_date'] = df['quit_date'].astype('datetime64[ns]', errors='ignore')"
   ]
  },
  {
   "cell_type": "code",
   "execution_count": 374,
   "id": "34dc9d9f",
   "metadata": {
    "ExecuteTime": {
     "end_time": "2022-12-21T19:48:51.466590Z",
     "start_time": "2022-12-21T19:48:51.452980Z"
    }
   },
   "outputs": [
    {
     "name": "stdout",
     "output_type": "stream",
     "text": [
      "<class 'pandas.core.frame.DataFrame'>\n",
      "RangeIndex: 24702 entries, 0 to 24701\n",
      "Data columns (total 8 columns):\n",
      " #   Column       Non-Null Count  Dtype         \n",
      "---  ------       --------------  -----         \n",
      " 0   employee_id  24702 non-null  object        \n",
      " 1   company_id   24702 non-null  object        \n",
      " 2   dept         24702 non-null  object        \n",
      " 3   seniority    24702 non-null  int64         \n",
      " 4   salary       24702 non-null  float64       \n",
      " 5   join_date    24702 non-null  datetime64[ns]\n",
      " 6   quit_date    13510 non-null  datetime64[ns]\n",
      " 7   Status       24702 non-null  int64         \n",
      "dtypes: datetime64[ns](2), float64(1), int64(2), object(3)\n",
      "memory usage: 1.5+ MB\n"
     ]
    }
   ],
   "source": [
    "df.info()"
   ]
  },
  {
   "cell_type": "markdown",
   "id": "24a30574-7aea-4b85-a237-eb4a0cd00edd",
   "metadata": {},
   "source": [
    "# 1. EDA"
   ]
  },
  {
   "cell_type": "code",
   "execution_count": 375,
   "id": "0407de37",
   "metadata": {
    "ExecuteTime": {
     "end_time": "2022-12-21T19:48:51.476375Z",
     "start_time": "2022-12-21T19:48:51.467663Z"
    }
   },
   "outputs": [
    {
     "data": {
      "text/html": [
       "<div>\n",
       "<style scoped>\n",
       "    .dataframe tbody tr th:only-of-type {\n",
       "        vertical-align: middle;\n",
       "    }\n",
       "\n",
       "    .dataframe tbody tr th {\n",
       "        vertical-align: top;\n",
       "    }\n",
       "\n",
       "    .dataframe thead th {\n",
       "        text-align: right;\n",
       "    }\n",
       "</style>\n",
       "<table border=\"1\" class=\"dataframe\">\n",
       "  <thead>\n",
       "    <tr style=\"text-align: right;\">\n",
       "      <th></th>\n",
       "      <th>employee_id</th>\n",
       "      <th>company_id</th>\n",
       "      <th>dept</th>\n",
       "      <th>seniority</th>\n",
       "      <th>salary</th>\n",
       "      <th>join_date</th>\n",
       "      <th>quit_date</th>\n",
       "      <th>Status</th>\n",
       "    </tr>\n",
       "  </thead>\n",
       "  <tbody>\n",
       "    <tr>\n",
       "      <th>5339</th>\n",
       "      <td>894069.0</td>\n",
       "      <td>3</td>\n",
       "      <td>customer_service</td>\n",
       "      <td>7</td>\n",
       "      <td>65000.0</td>\n",
       "      <td>2014-10-02</td>\n",
       "      <td>NaT</td>\n",
       "      <td>0</td>\n",
       "    </tr>\n",
       "    <tr>\n",
       "      <th>12313</th>\n",
       "      <td>954256.0</td>\n",
       "      <td>2</td>\n",
       "      <td>customer_service</td>\n",
       "      <td>18</td>\n",
       "      <td>107000.0</td>\n",
       "      <td>2011-07-20</td>\n",
       "      <td>2013-09-06</td>\n",
       "      <td>1</td>\n",
       "    </tr>\n",
       "    <tr>\n",
       "      <th>21318</th>\n",
       "      <td>129267.0</td>\n",
       "      <td>2</td>\n",
       "      <td>marketing</td>\n",
       "      <td>9</td>\n",
       "      <td>142000.0</td>\n",
       "      <td>2013-08-19</td>\n",
       "      <td>2015-04-10</td>\n",
       "      <td>1</td>\n",
       "    </tr>\n",
       "    <tr>\n",
       "      <th>8048</th>\n",
       "      <td>448056.0</td>\n",
       "      <td>7</td>\n",
       "      <td>engineer</td>\n",
       "      <td>19</td>\n",
       "      <td>179000.0</td>\n",
       "      <td>2014-05-19</td>\n",
       "      <td>2015-05-01</td>\n",
       "      <td>1</td>\n",
       "    </tr>\n",
       "    <tr>\n",
       "      <th>1457</th>\n",
       "      <td>379387.0</td>\n",
       "      <td>2</td>\n",
       "      <td>data_science</td>\n",
       "      <td>10</td>\n",
       "      <td>206000.0</td>\n",
       "      <td>2013-04-29</td>\n",
       "      <td>2014-06-27</td>\n",
       "      <td>1</td>\n",
       "    </tr>\n",
       "  </tbody>\n",
       "</table>\n",
       "</div>"
      ],
      "text/plain": [
       "      employee_id company_id              dept  seniority    salary  \\\n",
       "5339     894069.0          3  customer_service          7   65000.0   \n",
       "12313    954256.0          2  customer_service         18  107000.0   \n",
       "21318    129267.0          2         marketing          9  142000.0   \n",
       "8048     448056.0          7          engineer         19  179000.0   \n",
       "1457     379387.0          2      data_science         10  206000.0   \n",
       "\n",
       "       join_date  quit_date  Status  \n",
       "5339  2014-10-02        NaT       0  \n",
       "12313 2011-07-20 2013-09-06       1  \n",
       "21318 2013-08-19 2015-04-10       1  \n",
       "8048  2014-05-19 2015-05-01       1  \n",
       "1457  2013-04-29 2014-06-27       1  "
      ]
     },
     "execution_count": 375,
     "metadata": {},
     "output_type": "execute_result"
    }
   ],
   "source": [
    "df.sample(5,random_state=42)"
   ]
  },
  {
   "cell_type": "markdown",
   "id": "23c04b64",
   "metadata": {},
   "source": [
    "## 1.1 Company_id"
   ]
  },
  {
   "cell_type": "markdown",
   "id": "24dcf936",
   "metadata": {},
   "source": [
    "which company has the lowest attrition rate"
   ]
  },
  {
   "cell_type": "code",
   "execution_count": 376,
   "id": "8e848100",
   "metadata": {
    "ExecuteTime": {
     "end_time": "2022-12-21T19:48:51.566267Z",
     "start_time": "2022-12-21T19:48:51.477672Z"
    },
    "scrolled": false
   },
   "outputs": [
    {
     "data": {
      "image/png": "[encoded data removed]",
      "text/plain": [
       "<Figure size 640x480 with 1 Axes>"
      ]
     },
     "metadata": {},
     "output_type": "display_data"
    }
   ],
   "source": [
    "comp = df.groupby('company_id')['Status'].mean().to_frame().reset_index().sort_values(\n",
    "    by='Status', ascending=False)\n",
    "\n",
    "sns.barplot(x=comp['company_id'],y=comp['Status'],palette='viridis')\n",
    "plt.title('company attrition rate',size=20)\n",
    "plt.ylabel('Attrition Rate');\n"
   ]
  },
  {
   "cell_type": "markdown",
   "id": "bf3a57e8",
   "metadata": {},
   "source": [
    "* on average, all the companies have very similar attrition rate except for the company 11 which has the highest attrition rate"
   ]
  },
  {
   "cell_type": "markdown",
   "id": "587bc4d2",
   "metadata": {},
   "source": [
    "## 1.2 Salaries"
   ]
  },
  {
   "cell_type": "code",
   "execution_count": 377,
   "id": "defe401e",
   "metadata": {
    "ExecuteTime": {
     "end_time": "2022-12-21T19:48:51.819428Z",
     "start_time": "2022-12-21T19:48:51.567639Z"
    }
   },
   "outputs": [
    {
     "data": {
      "image/png": "[encoded data removed]",
      "text/plain": [
       "<Figure size 558.875x500 with 1 Axes>"
      ]
     },
     "metadata": {},
     "output_type": "display_data"
    }
   ],
   "source": [
    "sns.displot(data=df,x='salary',\n",
    "            hue='Status',\n",
    "            palette='viridis')\n",
    "plt.xticks(rotation=90);"
   ]
  },
  {
   "cell_type": "markdown",
   "id": "720d9084",
   "metadata": {},
   "source": [
    "* It appears that individuals with salaries above 250000 are more likely to remain with their current company."
   ]
  },
  {
   "cell_type": "code",
   "execution_count": 378,
   "id": "acf9f70d",
   "metadata": {
    "ExecuteTime": {
     "end_time": "2022-12-21T19:48:55.300642Z",
     "start_time": "2022-12-21T19:48:51.820525Z"
    }
   },
   "outputs": [
    {
     "data": {
      "image/png": "[encoded data removed]",
      "text/plain": [
       "<Figure size 640x480 with 1 Axes>"
      ]
     },
     "metadata": {},
     "output_type": "display_data"
    }
   ],
   "source": [
    "# Create a linear regression plot showing the relationship between salary and years of experience\n",
    "sns.scatterplot(x='seniority',\n",
    "                y='salary',\n",
    "                data=df, \n",
    "                alpha=0.3,\n",
    "                hue='Status')\n",
    "\n",
    "sns.regplot(x='seniority', \n",
    "            y='salary', \n",
    "            data=df,\n",
    "            scatter=False,\n",
    "            color='red',\n",
    "           )\n",
    "\n",
    "# Calculate the R-squared value\n",
    "corr = df['seniority'].corr(df['salary'])\n",
    "\n",
    "# Add the R-squared value to the plot\n",
    "plt.annotate(\"Correlation: {:.2f}\".format(corr), xy=(0.5, 0.9), xycoords='axes fraction');\n",
    "\n"
   ]
  },
  {
   "cell_type": "markdown",
   "id": "5d6b9a75",
   "metadata": {},
   "source": [
    "**Insights**:\n",
    "* Moreover, we can see that seniority is positive correlated with salary (makes sense)\n",
    "* we can see that there are fewer 1 in higher seniority (20 above)"
   ]
  },
  {
   "cell_type": "markdown",
   "id": "55550beb",
   "metadata": {},
   "source": [
    "## 1.3 Departments"
   ]
  },
  {
   "cell_type": "code",
   "execution_count": 379,
   "id": "0e25f203",
   "metadata": {
    "ExecuteTime": {
     "end_time": "2022-12-21T19:48:55.372334Z",
     "start_time": "2022-12-21T19:48:55.301705Z"
    }
   },
   "outputs": [
    {
     "data": {
      "image/png": "[encoded data removed]",
      "text/plain": [
       "<Figure size 640x480 with 1 Axes>"
      ]
     },
     "metadata": {},
     "output_type": "display_data"
    }
   ],
   "source": [
    "dept = df.groupby('dept')['Status'].mean().to_frame().reset_index().sort_values(\n",
    "    by='Status', ascending=False)\n",
    "\n",
    "sns.barplot(x=dept['dept'],y=dept['Status'],palette='viridis')\n",
    "plt.title('company attrition rate',size=20)\n",
    "plt.ylabel('Attrition Rate')\n",
    "plt.xlabel(None)\n",
    "plt.xticks(rotation=90);\n"
   ]
  },
  {
   "cell_type": "markdown",
   "id": "b3121edb",
   "metadata": {},
   "source": [
    "**Insights**:\n",
    "* <u>Tech positions(engineer/data science) have a lower attrition than sales and design positions<u/>\n",
    "* **A few potential factors that may contribute to the lower attrition rate of tech positions**\n",
    "    * `Tech positions may offer more opportunities for personal and professional growth`, as well as a sense of accomplishment, which may contribute to job satisfaction.\n",
    "    * Tech positions may require a high level of technical expertise and problem-solving skills, which may be more challenging to acquire and maintain than the skills needed for sales and design positions. This may make tech positions more `rewarding and engaging for employees`, and may also make it more difficult for them to find comparable opportunities elsewhere.\n"
   ]
  },
  {
   "cell_type": "markdown",
   "id": "4e0bde52",
   "metadata": {
    "ExecuteTime": {
     "end_time": "2022-12-21T05:41:40.188575Z",
     "start_time": "2022-12-21T05:41:40.163697Z"
    }
   },
   "source": [
    "## 1.4 Trend over time"
   ]
  },
  {
   "cell_type": "markdown",
   "id": "4b208e5f",
   "metadata": {},
   "source": [
    "create a table with 3 columns: day, employee_headcount, company_id."
   ]
  },
  {
   "cell_type": "code",
   "execution_count": 380,
   "id": "12f67f83",
   "metadata": {
    "ExecuteTime": {
     "end_time": "2022-12-21T19:49:56.252928Z",
     "start_time": "2022-12-21T19:48:55.373650Z"
    }
   },
   "outputs": [],
   "source": [
    "# Define useful information\n",
    "unique_dates = pd.date_range(start='2011-01-24', end='2015-12-13', freq='D')\n",
    "unique_companies = sorted(df['company_id'].unique())\n",
    "\n",
    "# Initialize empty lists to store data\n",
    "days = []\n",
    "companies = []\n",
    "headcounts = []\n",
    "\n",
    "# Loop through each date and company\n",
    "for date in unique_dates:\n",
    "    for company in unique_companies:\n",
    "        # Calculate the number of employees who joined and quit on or before this date\n",
    "        total_join = len(df[(df['join_date'] <= date) & (df['company_id'] == company)])\n",
    "        total_quit = len(df[(df['quit_date'] <= date) & (df['company_id'] == company)])\n",
    "        \n",
    "        # Calculate the headcount for this date and company\n",
    "        headcount = total_join - total_quit\n",
    "        \n",
    "        # Store the date, company, and headcount\n",
    "        days.append(date) #in each 'for company' loop, date will append to days\n",
    "        companies.append(company)\n",
    "        headcounts.append(headcount)\n",
    "\n",
    "# Create a DataFrame to store the data\n",
    "table = pd.DataFrame({'date': days, 'company_id': companies, 'employee_headcount': headcounts})\n"
   ]
  },
  {
   "cell_type": "code",
   "execution_count": 381,
   "id": "de2bfc07",
   "metadata": {
    "ExecuteTime": {
     "end_time": "2022-12-21T19:49:56.261046Z",
     "start_time": "2022-12-21T19:49:56.256016Z"
    }
   },
   "outputs": [
    {
     "data": {
      "text/html": [
       "<div>\n",
       "<style scoped>\n",
       "    .dataframe tbody tr th:only-of-type {\n",
       "        vertical-align: middle;\n",
       "    }\n",
       "\n",
       "    .dataframe tbody tr th {\n",
       "        vertical-align: top;\n",
       "    }\n",
       "\n",
       "    .dataframe thead th {\n",
       "        text-align: right;\n",
       "    }\n",
       "</style>\n",
       "<table border=\"1\" class=\"dataframe\">\n",
       "  <thead>\n",
       "    <tr style=\"text-align: right;\">\n",
       "      <th></th>\n",
       "      <th>date</th>\n",
       "      <th>company_id</th>\n",
       "      <th>employee_headcount</th>\n",
       "    </tr>\n",
       "  </thead>\n",
       "  <tbody>\n",
       "    <tr>\n",
       "      <th>0</th>\n",
       "      <td>2011-01-24</td>\n",
       "      <td>1</td>\n",
       "      <td>25</td>\n",
       "    </tr>\n",
       "    <tr>\n",
       "      <th>1</th>\n",
       "      <td>2011-01-24</td>\n",
       "      <td>2</td>\n",
       "      <td>17</td>\n",
       "    </tr>\n",
       "    <tr>\n",
       "      <th>2</th>\n",
       "      <td>2011-01-24</td>\n",
       "      <td>3</td>\n",
       "      <td>9</td>\n",
       "    </tr>\n",
       "    <tr>\n",
       "      <th>3</th>\n",
       "      <td>2011-01-24</td>\n",
       "      <td>4</td>\n",
       "      <td>12</td>\n",
       "    </tr>\n",
       "    <tr>\n",
       "      <th>4</th>\n",
       "      <td>2011-01-24</td>\n",
       "      <td>5</td>\n",
       "      <td>5</td>\n",
       "    </tr>\n",
       "    <tr>\n",
       "      <th>...</th>\n",
       "      <td>...</td>\n",
       "      <td>...</td>\n",
       "      <td>...</td>\n",
       "    </tr>\n",
       "    <tr>\n",
       "      <th>21415</th>\n",
       "      <td>2015-12-13</td>\n",
       "      <td>8</td>\n",
       "      <td>468</td>\n",
       "    </tr>\n",
       "    <tr>\n",
       "      <th>21416</th>\n",
       "      <td>2015-12-13</td>\n",
       "      <td>9</td>\n",
       "      <td>432</td>\n",
       "    </tr>\n",
       "    <tr>\n",
       "      <th>21417</th>\n",
       "      <td>2015-12-13</td>\n",
       "      <td>10</td>\n",
       "      <td>385</td>\n",
       "    </tr>\n",
       "    <tr>\n",
       "      <th>21418</th>\n",
       "      <td>2015-12-13</td>\n",
       "      <td>11</td>\n",
       "      <td>4</td>\n",
       "    </tr>\n",
       "    <tr>\n",
       "      <th>21419</th>\n",
       "      <td>2015-12-13</td>\n",
       "      <td>12</td>\n",
       "      <td>12</td>\n",
       "    </tr>\n",
       "  </tbody>\n",
       "</table>\n",
       "<p>21420 rows × 3 columns</p>\n",
       "</div>"
      ],
      "text/plain": [
       "            date  company_id  employee_headcount\n",
       "0     2011-01-24           1                  25\n",
       "1     2011-01-24           2                  17\n",
       "2     2011-01-24           3                   9\n",
       "3     2011-01-24           4                  12\n",
       "4     2011-01-24           5                   5\n",
       "...          ...         ...                 ...\n",
       "21415 2015-12-13           8                 468\n",
       "21416 2015-12-13           9                 432\n",
       "21417 2015-12-13          10                 385\n",
       "21418 2015-12-13          11                   4\n",
       "21419 2015-12-13          12                  12\n",
       "\n",
       "[21420 rows x 3 columns]"
      ]
     },
     "execution_count": 381,
     "metadata": {},
     "output_type": "execute_result"
    }
   ],
   "source": [
    "table"
   ]
  },
  {
   "cell_type": "code",
   "execution_count": 382,
   "id": "95ec6ab7",
   "metadata": {
    "ExecuteTime": {
     "end_time": "2022-12-21T19:49:56.647713Z",
     "start_time": "2022-12-21T19:49:56.262302Z"
    }
   },
   "outputs": [
    {
     "data": {
      "image/png": "[encoded data removed]",
      "text/plain": [
       "<Figure size 640x480 with 1 Axes>"
      ]
     },
     "metadata": {},
     "output_type": "display_data"
    }
   ],
   "source": [
    "# Set the month\n",
    "table['month'] = table['date'].dt.month\n",
    "\n",
    "# # Create a time series plot showing the number of employees over time\n",
    "sns.lineplot(x=table['month'],\n",
    "             y=table['employee_headcount'],\n",
    "             err_style=None)\n",
    "plt.title('#emp over time',size=20)\n",
    "plt.axhline(table['employee_headcount'].mean(),\n",
    "            ls='--',\n",
    "            color='red');\n",
    "\n",
    "plt.text(x=2, \n",
    "         y=table['employee_headcount'].mean()+10, \n",
    "         s='average', \n",
    "         color='red', \n",
    "         fontsize=12);\n",
    "\n"
   ]
  },
  {
   "cell_type": "markdown",
   "id": "1a251cf1",
   "metadata": {},
   "source": [
    "**Insights**:\n",
    "* From a business standpoint, the trend of increasing employee headcount from February to November and decreasing employee headcount from December to February may indicate `seasonal patterns in the hiring and retention of employees`. \n",
    "    * For example, the company may experience an increase in demand for its products or services during the spring and summer months, leading to an increase in hiring. Conversely, the company may experience a slowdown in demand during the winter months, leading to a decrease in hiring or an increase in employee departures.\n",
    "* Understanding these seasonal patterns can help the company `anticipate and plan for changes in its workforce needs`, and may also `inform decisions about employee training and development, budgeting, and resource allocation`.\n",
    "* It's worth noting that this trend may not be evident in all companies or industries, and that there may be other factors at play that influence the hiring and retention of employees. Therefore, it's important to consider the specific context and needs of the company when interpreting and acting on this trend."
   ]
  },
  {
   "cell_type": "markdown",
   "id": "f47e856a",
   "metadata": {
    "ExecuteTime": {
     "end_time": "2022-12-21T17:13:03.759544Z",
     "start_time": "2022-12-21T17:13:03.727210Z"
    }
   },
   "source": [
    "# 2. Machine Learning"
   ]
  },
  {
   "cell_type": "markdown",
   "id": "6309b829",
   "metadata": {},
   "source": [
    "**The length of time an employee has been with the company might be an interesting feature for machine learning**"
   ]
  },
  {
   "cell_type": "code",
   "execution_count": 383,
   "id": "94548143",
   "metadata": {
    "ExecuteTime": {
     "end_time": "2022-12-21T19:49:56.854814Z",
     "start_time": "2022-12-21T19:49:56.648851Z"
    }
   },
   "outputs": [],
   "source": [
    "df['length'] = df['quit_date'] - df['join_date']\n",
    "df['length'] = df['length'].astype('string')\n",
    "df['length'] = df['length'].str.replace('days','')\n",
    "\n",
    "df['diff'] = pd.to_datetime('2015-12-13') - df['join_date']\n",
    "df['diff'] = df['diff'].astype('string')\n",
    "df['diff'] = df['diff'].str.replace('days','')\n",
    "df['length'] = df['length'].fillna(df['diff'])\n",
    "df.drop(['diff','join_date','quit_date'],axis=1,inplace=True)\n",
    "df.length = df.length.astype('int')"
   ]
  },
  {
   "cell_type": "code",
   "execution_count": 390,
   "id": "2b1b1925",
   "metadata": {
    "ExecuteTime": {
     "end_time": "2022-12-21T19:50:35.509532Z",
     "start_time": "2022-12-21T19:50:35.490458Z"
    }
   },
   "outputs": [],
   "source": [
    "X = df.drop(['employee_id','company_id','Status'],axis=1)\n",
    "y = df.Status"
   ]
  },
  {
   "cell_type": "code",
   "execution_count": 443,
   "id": "56723b55",
   "metadata": {
    "ExecuteTime": {
     "end_time": "2022-12-21T20:27:17.374556Z",
     "start_time": "2022-12-21T20:27:17.346184Z"
    }
   },
   "outputs": [
    {
     "name": "stdout",
     "output_type": "stream",
     "text": [
      "These are the reference levels\n",
      "----------------------------\n"
     ]
    },
    {
     "data": {
      "text/html": [
       "<div>\n",
       "<style scoped>\n",
       "    .dataframe tbody tr th:only-of-type {\n",
       "        vertical-align: middle;\n",
       "    }\n",
       "\n",
       "    .dataframe tbody tr th {\n",
       "        vertical-align: top;\n",
       "    }\n",
       "\n",
       "    .dataframe thead th {\n",
       "        text-align: right;\n",
       "    }\n",
       "</style>\n",
       "<table border=\"1\" class=\"dataframe\">\n",
       "  <thead>\n",
       "    <tr style=\"text-align: right;\">\n",
       "      <th></th>\n",
       "    </tr>\n",
       "  </thead>\n",
       "  <tbody>\n",
       "    <tr>\n",
       "      <th>0</th>\n",
       "    </tr>\n",
       "    <tr>\n",
       "      <th>1</th>\n",
       "    </tr>\n",
       "    <tr>\n",
       "      <th>2</th>\n",
       "    </tr>\n",
       "    <tr>\n",
       "      <th>3</th>\n",
       "    </tr>\n",
       "    <tr>\n",
       "      <th>4</th>\n",
       "    </tr>\n",
       "    <tr>\n",
       "      <th>...</th>\n",
       "    </tr>\n",
       "    <tr>\n",
       "      <th>24697</th>\n",
       "    </tr>\n",
       "    <tr>\n",
       "      <th>24698</th>\n",
       "    </tr>\n",
       "    <tr>\n",
       "      <th>24699</th>\n",
       "    </tr>\n",
       "    <tr>\n",
       "      <th>24700</th>\n",
       "    </tr>\n",
       "    <tr>\n",
       "      <th>24701</th>\n",
       "    </tr>\n",
       "  </tbody>\n",
       "</table>\n",
       "<p>24702 rows × 0 columns</p>\n",
       "</div>"
      ],
      "text/plain": [
       "Empty DataFrame\n",
       "Columns: []\n",
       "Index: [0, 1, 2, 3, 4, 5, 6, 7, 8, 9, 10, 11, 12, 13, 14, 15, 16, 17, 18, 19, 20, 21, 22, 23, 24, 25, 26, 27, 28, 29, 30, 31, 32, 33, 34, 35, 36, 37, 38, 39, 40, 41, 42, 43, 44, 45, 46, 47, 48, 49, 50, 51, 52, 53, 54, 55, 56, 57, 58, 59, 60, 61, 62, 63, 64, 65, 66, 67, 68, 69, 70, 71, 72, 73, 74, 75, 76, 77, 78, 79, 80, 81, 82, 83, 84, 85, 86, 87, 88, 89, 90, 91, 92, 93, 94, 95, 96, 97, 98, 99, ...]\n",
       "\n",
       "[24702 rows x 0 columns]"
      ]
     },
     "execution_count": 443,
     "metadata": {},
     "output_type": "execute_result"
    }
   ],
   "source": [
    "X_category = X.select_dtypes(['object']).astype('category')\n",
    "print('These are the reference levels') \n",
    "print('----------------------------') \n",
    "X_category.apply(lambda x: x.cat.categories[0])"
   ]
  },
  {
   "cell_type": "markdown",
   "id": "485adca5",
   "metadata": {},
   "source": [
    "**We will use logistic regression mainly to extract insights**"
   ]
  },
  {
   "cell_type": "code",
   "execution_count": 392,
   "id": "a4e0cf41",
   "metadata": {
    "ExecuteTime": {
     "end_time": "2022-12-21T19:50:37.771853Z",
     "start_time": "2022-12-21T19:50:37.750661Z"
    }
   },
   "outputs": [],
   "source": [
    "#get dummies\n",
    "X = pd.get_dummies(X,drop_first=True)\n",
    "\n",
    "#add intercept for multiple logistic regression\n",
    "X['intercept'] = 1\n",
    "\n",
    "#it is not necessary to scale the numeric data for logit or random forests"
   ]
  },
  {
   "cell_type": "code",
   "execution_count": 489,
   "id": "63e8c8bc",
   "metadata": {
    "ExecuteTime": {
     "end_time": "2022-12-22T00:05:46.055614Z",
     "start_time": "2022-12-22T00:05:46.007469Z"
    }
   },
   "outputs": [
    {
     "name": "stdout",
     "output_type": "stream",
     "text": [
      "Optimization terminated successfully.\n",
      "         Current function value: 0.679807\n",
      "         Iterations 4\n"
     ]
    },
    {
     "data": {
      "text/html": [
       "<div>\n",
       "<style scoped>\n",
       "    .dataframe tbody tr th:only-of-type {\n",
       "        vertical-align: middle;\n",
       "    }\n",
       "\n",
       "    .dataframe tbody tr th {\n",
       "        vertical-align: top;\n",
       "    }\n",
       "\n",
       "    .dataframe thead th {\n",
       "        text-align: right;\n",
       "    }\n",
       "</style>\n",
       "<table border=\"1\" class=\"dataframe\">\n",
       "  <thead>\n",
       "    <tr style=\"text-align: right;\">\n",
       "      <th></th>\n",
       "      <th>variables</th>\n",
       "      <th>coef</th>\n",
       "      <th>Standard error</th>\n",
       "      <th>test-statistics</th>\n",
       "      <th>p_values</th>\n",
       "    </tr>\n",
       "  </thead>\n",
       "  <tbody>\n",
       "    <tr>\n",
       "      <th>0</th>\n",
       "      <td>seniority</td>\n",
       "      <td>0.009019</td>\n",
       "      <td>0.001929</td>\n",
       "      <td>4.674728</td>\n",
       "      <td>0.000003</td>\n",
       "    </tr>\n",
       "    <tr>\n",
       "      <th>1</th>\n",
       "      <td>salary</td>\n",
       "      <td>-0.000002</td>\n",
       "      <td>0.000000</td>\n",
       "      <td>-8.211088</td>\n",
       "      <td>0.000000</td>\n",
       "    </tr>\n",
       "    <tr>\n",
       "      <th>2</th>\n",
       "      <td>length</td>\n",
       "      <td>0.000703</td>\n",
       "      <td>0.000037</td>\n",
       "      <td>19.182788</td>\n",
       "      <td>0.000000</td>\n",
       "    </tr>\n",
       "    <tr>\n",
       "      <th>3</th>\n",
       "      <td>dept_marketing</td>\n",
       "      <td>0.104921</td>\n",
       "      <td>0.039082</td>\n",
       "      <td>2.684658</td>\n",
       "      <td>0.007260</td>\n",
       "    </tr>\n",
       "    <tr>\n",
       "      <th>4</th>\n",
       "      <td>dept_sales</td>\n",
       "      <td>0.142723</td>\n",
       "      <td>0.039122</td>\n",
       "      <td>3.648192</td>\n",
       "      <td>0.000264</td>\n",
       "    </tr>\n",
       "    <tr>\n",
       "      <th>5</th>\n",
       "      <td>intercept</td>\n",
       "      <td>-0.137859</td>\n",
       "      <td>0.036102</td>\n",
       "      <td>-3.818643</td>\n",
       "      <td>0.000134</td>\n",
       "    </tr>\n",
       "  </tbody>\n",
       "</table>\n",
       "</div>"
      ],
      "text/plain": [
       "        variables      coef  Standard error  test-statistics  p_values\n",
       "0       seniority  0.009019        0.001929         4.674728  0.000003\n",
       "1          salary -0.000002        0.000000        -8.211088  0.000000\n",
       "2          length  0.000703        0.000037        19.182788  0.000000\n",
       "3  dept_marketing  0.104921        0.039082         2.684658  0.007260\n",
       "4      dept_sales  0.142723        0.039122         3.648192  0.000264\n",
       "5       intercept -0.137859        0.036102        -3.818643  0.000134"
      ]
     },
     "execution_count": 489,
     "metadata": {},
     "output_type": "execute_result"
    }
   ],
   "source": [
    "#alpha = 0.05\n",
    "\n",
    "#display full decimal\n",
    "pd.set_option('display.float_format', lambda x: '%.6f' % x)\n",
    "\n",
    "import statsmodels.api as sm\n",
    "from statsmodels.stats.outliers_influence import variance_inflation_factor\n",
    "\n",
    "logit_1 = sm.Logit(y,X).fit()\n",
    "output_table = pd.DataFrame({'coef':logit_1.params,\n",
    "                                 'Standard error':logit_1.bse,\n",
    "                                 'test-statistics':logit_1.tvalues,\n",
    "                                 'p_values':logit_1.pvalues}).reset_index()\n",
    "output_table = output_table.rename(columns={'index':'variables'})\n",
    "output_table"
   ]
  },
  {
   "cell_type": "markdown",
   "id": "7acf2f04",
   "metadata": {},
   "source": [
    "If the p-value of a feature coefficient is smaller than 0.05, it indicates that the coefficient is statistically significant and that the corresponding predictor variable is likely to have an effect on the outcome. This means that a unit change in the predictor variable is likely to be associated with a change in the log odds of the outcome."
   ]
  },
  {
   "cell_type": "markdown",
   "id": "09874cb7",
   "metadata": {},
   "source": [
    "**check multicollinearity**"
   ]
  },
  {
   "cell_type": "code",
   "execution_count": 494,
   "id": "78c87782",
   "metadata": {
    "ExecuteTime": {
     "end_time": "2022-12-22T00:10:28.167037Z",
     "start_time": "2022-12-22T00:10:28.096463Z"
    }
   },
   "outputs": [
    {
     "data": {
      "text/html": [
       "<div>\n",
       "<style scoped>\n",
       "    .dataframe tbody tr th:only-of-type {\n",
       "        vertical-align: middle;\n",
       "    }\n",
       "\n",
       "    .dataframe tbody tr th {\n",
       "        vertical-align: top;\n",
       "    }\n",
       "\n",
       "    .dataframe thead th {\n",
       "        text-align: right;\n",
       "    }\n",
       "</style>\n",
       "<table border=\"1\" class=\"dataframe\">\n",
       "  <thead>\n",
       "    <tr style=\"text-align: right;\">\n",
       "      <th></th>\n",
       "      <th>features</th>\n",
       "      <th>VIF</th>\n",
       "    </tr>\n",
       "  </thead>\n",
       "  <tbody>\n",
       "    <tr>\n",
       "      <th>0</th>\n",
       "      <td>seniority</td>\n",
       "      <td>1.457452</td>\n",
       "    </tr>\n",
       "    <tr>\n",
       "      <th>1</th>\n",
       "      <td>salary</td>\n",
       "      <td>1.461982</td>\n",
       "    </tr>\n",
       "    <tr>\n",
       "      <th>2</th>\n",
       "      <td>length</td>\n",
       "      <td>1.005016</td>\n",
       "    </tr>\n",
       "    <tr>\n",
       "      <th>3</th>\n",
       "      <td>dept_marketing</td>\n",
       "      <td>1.022723</td>\n",
       "    </tr>\n",
       "    <tr>\n",
       "      <th>4</th>\n",
       "      <td>dept_sales</td>\n",
       "      <td>1.022951</td>\n",
       "    </tr>\n",
       "    <tr>\n",
       "      <th>5</th>\n",
       "      <td>intercept</td>\n",
       "      <td>7.844033</td>\n",
       "    </tr>\n",
       "  </tbody>\n",
       "</table>\n",
       "</div>"
      ],
      "text/plain": [
       "         features      VIF\n",
       "0       seniority 1.457452\n",
       "1          salary 1.461982\n",
       "2          length 1.005016\n",
       "3  dept_marketing 1.022723\n",
       "4      dept_sales 1.022951\n",
       "5       intercept 7.844033"
      ]
     },
     "execution_count": 494,
     "metadata": {},
     "output_type": "execute_result"
    }
   ],
   "source": [
    "vif = pd.DataFrame()\n",
    "vif['features'] = X.columns\n",
    "vif['VIF'] = [variance_inflation_factor(X.values, i) for i in range(X.shape[1])]\n",
    "vif"
   ]
  },
  {
   "cell_type": "markdown",
   "id": "833d6f5d",
   "metadata": {},
   "source": [
    "All vif is small and there is no multicollinearity issue"
   ]
  },
  {
   "cell_type": "code",
   "execution_count": 439,
   "id": "1ce903bc",
   "metadata": {
    "ExecuteTime": {
     "end_time": "2022-12-21T20:08:55.728291Z",
     "start_time": "2022-12-21T20:08:55.713647Z"
    }
   },
   "outputs": [],
   "source": [
    "#filter out variables whose p values are less than 0.05\n",
    "X.drop(output_table[output_table['p_values'] > 0.05]['variables'].values,axis=1,inplace=True)"
   ]
  },
  {
   "cell_type": "code",
   "execution_count": 441,
   "id": "4b4d3ab3",
   "metadata": {
    "ExecuteTime": {
     "end_time": "2022-12-21T20:09:38.978376Z",
     "start_time": "2022-12-21T20:09:38.923110Z"
    }
   },
   "outputs": [
    {
     "name": "stdout",
     "output_type": "stream",
     "text": [
      "Optimization terminated successfully.\n",
      "         Current function value: 0.679734\n",
      "         Iterations 4\n"
     ]
    },
    {
     "data": {
      "text/html": [
       "<div>\n",
       "<style scoped>\n",
       "    .dataframe tbody tr th:only-of-type {\n",
       "        vertical-align: middle;\n",
       "    }\n",
       "\n",
       "    .dataframe tbody tr th {\n",
       "        vertical-align: top;\n",
       "    }\n",
       "\n",
       "    .dataframe thead th {\n",
       "        text-align: right;\n",
       "    }\n",
       "</style>\n",
       "<table border=\"1\" class=\"dataframe\">\n",
       "  <thead>\n",
       "    <tr style=\"text-align: right;\">\n",
       "      <th></th>\n",
       "      <th>variables</th>\n",
       "      <th>coef</th>\n",
       "      <th>Standard error</th>\n",
       "      <th>test-statistics</th>\n",
       "      <th>p_values</th>\n",
       "    </tr>\n",
       "  </thead>\n",
       "  <tbody>\n",
       "    <tr>\n",
       "      <th>0</th>\n",
       "      <td>seniority</td>\n",
       "      <td>0.009003</td>\n",
       "      <td>0.001929</td>\n",
       "      <td>4.666186</td>\n",
       "      <td>0.000003</td>\n",
       "    </tr>\n",
       "    <tr>\n",
       "      <th>1</th>\n",
       "      <td>salary</td>\n",
       "      <td>-0.000002</td>\n",
       "      <td>0.000000</td>\n",
       "      <td>-8.199047</td>\n",
       "      <td>0.000000</td>\n",
       "    </tr>\n",
       "    <tr>\n",
       "      <th>2</th>\n",
       "      <td>length</td>\n",
       "      <td>0.000704</td>\n",
       "      <td>0.000037</td>\n",
       "      <td>19.192140</td>\n",
       "      <td>0.000000</td>\n",
       "    </tr>\n",
       "    <tr>\n",
       "      <th>3</th>\n",
       "      <td>dept_design</td>\n",
       "      <td>0.107619</td>\n",
       "      <td>0.056852</td>\n",
       "      <td>1.892944</td>\n",
       "      <td>0.058365</td>\n",
       "    </tr>\n",
       "    <tr>\n",
       "      <th>4</th>\n",
       "      <td>dept_marketing</td>\n",
       "      <td>0.113013</td>\n",
       "      <td>0.039313</td>\n",
       "      <td>2.874687</td>\n",
       "      <td>0.004044</td>\n",
       "    </tr>\n",
       "    <tr>\n",
       "      <th>5</th>\n",
       "      <td>dept_sales</td>\n",
       "      <td>0.150817</td>\n",
       "      <td>0.039353</td>\n",
       "      <td>3.832409</td>\n",
       "      <td>0.000127</td>\n",
       "    </tr>\n",
       "    <tr>\n",
       "      <th>6</th>\n",
       "      <td>intercept</td>\n",
       "      <td>-0.146289</td>\n",
       "      <td>0.036376</td>\n",
       "      <td>-4.021560</td>\n",
       "      <td>0.000058</td>\n",
       "    </tr>\n",
       "  </tbody>\n",
       "</table>\n",
       "</div>"
      ],
      "text/plain": [
       "        variables      coef  Standard error  test-statistics  p_values\n",
       "0       seniority  0.009003        0.001929         4.666186  0.000003\n",
       "1          salary -0.000002        0.000000        -8.199047  0.000000\n",
       "2          length  0.000704        0.000037        19.192140  0.000000\n",
       "3     dept_design  0.107619        0.056852         1.892944  0.058365\n",
       "4  dept_marketing  0.113013        0.039313         2.874687  0.004044\n",
       "5      dept_sales  0.150817        0.039353         3.832409  0.000127\n",
       "6       intercept -0.146289        0.036376        -4.021560  0.000058"
      ]
     },
     "execution_count": 441,
     "metadata": {},
     "output_type": "execute_result"
    }
   ],
   "source": [
    "logit_2 = sm.Logit(y,X).fit()\n",
    "output_table = pd.DataFrame({'coef':logit_2.params,\n",
    "                                 'Standard error':logit_2.bse,\n",
    "                                 'test-statistics':logit_2.tvalues,\n",
    "                                 'p_values':logit_2.pvalues}).reset_index()\n",
    "output_table = output_table.rename(columns={'index':'variables'})\n",
    "output_table"
   ]
  },
  {
   "cell_type": "code",
   "execution_count": 442,
   "id": "3595c802",
   "metadata": {
    "ExecuteTime": {
     "end_time": "2022-12-21T20:10:27.389242Z",
     "start_time": "2022-12-21T20:10:27.336952Z"
    },
    "scrolled": false
   },
   "outputs": [
    {
     "name": "stdout",
     "output_type": "stream",
     "text": [
      "Optimization terminated successfully.\n",
      "         Current function value: 0.679807\n",
      "         Iterations 4\n"
     ]
    },
    {
     "data": {
      "text/html": [
       "<div>\n",
       "<style scoped>\n",
       "    .dataframe tbody tr th:only-of-type {\n",
       "        vertical-align: middle;\n",
       "    }\n",
       "\n",
       "    .dataframe tbody tr th {\n",
       "        vertical-align: top;\n",
       "    }\n",
       "\n",
       "    .dataframe thead th {\n",
       "        text-align: right;\n",
       "    }\n",
       "</style>\n",
       "<table border=\"1\" class=\"dataframe\">\n",
       "  <thead>\n",
       "    <tr style=\"text-align: right;\">\n",
       "      <th></th>\n",
       "      <th>variables</th>\n",
       "      <th>coef</th>\n",
       "      <th>Standard error</th>\n",
       "      <th>test-statistics</th>\n",
       "      <th>p_values</th>\n",
       "    </tr>\n",
       "  </thead>\n",
       "  <tbody>\n",
       "    <tr>\n",
       "      <th>0</th>\n",
       "      <td>seniority</td>\n",
       "      <td>0.009019</td>\n",
       "      <td>0.001929</td>\n",
       "      <td>4.674728</td>\n",
       "      <td>0.000003</td>\n",
       "    </tr>\n",
       "    <tr>\n",
       "      <th>1</th>\n",
       "      <td>salary</td>\n",
       "      <td>-0.000002</td>\n",
       "      <td>0.000000</td>\n",
       "      <td>-8.211088</td>\n",
       "      <td>0.000000</td>\n",
       "    </tr>\n",
       "    <tr>\n",
       "      <th>2</th>\n",
       "      <td>length</td>\n",
       "      <td>0.000703</td>\n",
       "      <td>0.000037</td>\n",
       "      <td>19.182788</td>\n",
       "      <td>0.000000</td>\n",
       "    </tr>\n",
       "    <tr>\n",
       "      <th>3</th>\n",
       "      <td>dept_marketing</td>\n",
       "      <td>0.104921</td>\n",
       "      <td>0.039082</td>\n",
       "      <td>2.684658</td>\n",
       "      <td>0.007260</td>\n",
       "    </tr>\n",
       "    <tr>\n",
       "      <th>4</th>\n",
       "      <td>dept_sales</td>\n",
       "      <td>0.142723</td>\n",
       "      <td>0.039122</td>\n",
       "      <td>3.648192</td>\n",
       "      <td>0.000264</td>\n",
       "    </tr>\n",
       "    <tr>\n",
       "      <th>5</th>\n",
       "      <td>intercept</td>\n",
       "      <td>-0.137859</td>\n",
       "      <td>0.036102</td>\n",
       "      <td>-3.818643</td>\n",
       "      <td>0.000134</td>\n",
       "    </tr>\n",
       "  </tbody>\n",
       "</table>\n",
       "</div>"
      ],
      "text/plain": [
       "        variables      coef  Standard error  test-statistics  p_values\n",
       "0       seniority  0.009019        0.001929         4.674728  0.000003\n",
       "1          salary -0.000002        0.000000        -8.211088  0.000000\n",
       "2          length  0.000703        0.000037        19.182788  0.000000\n",
       "3  dept_marketing  0.104921        0.039082         2.684658  0.007260\n",
       "4      dept_sales  0.142723        0.039122         3.648192  0.000264\n",
       "5       intercept -0.137859        0.036102        -3.818643  0.000134"
      ]
     },
     "execution_count": 442,
     "metadata": {},
     "output_type": "execute_result"
    }
   ],
   "source": [
    "#filter out dept_design\n",
    "X.drop(output_table[output_table['p_values'] > 0.05]['variables'].values,axis=1,inplace=True)\n",
    "logit_3 = sm.Logit(y,X).fit()\n",
    "output_table = pd.DataFrame({'coef':logit_3.params,\n",
    "                                 'Standard error':logit_3.bse,\n",
    "                                 'test-statistics':logit_3.tvalues,\n",
    "                                 'p_values':logit_3.pvalues}).reset_index()\n",
    "output_table = output_table.rename(columns={'index':'variables'})\n",
    "output_table"
   ]
  },
  {
   "cell_type": "code",
   "execution_count": 446,
   "id": "48542b7a",
   "metadata": {
    "ExecuteTime": {
     "end_time": "2022-12-21T20:29:02.651997Z",
     "start_time": "2022-12-21T20:29:02.547557Z"
    }
   },
   "outputs": [
    {
     "data": {
      "image/png": "[encoded data removed]",
      "text/plain": [
       "<Figure size 640x480 with 1 Axes>"
      ]
     },
     "metadata": {},
     "output_type": "display_data"
    }
   ],
   "source": [
    "#base cate: customer_service\n",
    "output_table = output_table.sort_values(by='coef',ascending=False)\n",
    "sns.barplot(data=output_table, y='variables',x='coef');\n",
    "plt.title('Feature weights',fontsize=15,color='blue')\n",
    "plt.xlabel('Log odds')\n",
    "plt.ylabel(None);"
   ]
  },
  {
   "cell_type": "markdown",
   "id": "e8179e7f",
   "metadata": {},
   "source": [
    "**background**: what is odd?\n",
    "odds = P(event occurring) / P(event not occurring)\n",
    "\n",
    "* The log odds is a measure of the odds of an outcome occurring. The odds is defined as the probability of the outcome occurring divided by the probability of the outcome not occurring.\n",
    "\n",
    "* A log odds of 0 indicates that the odds of the outcome occurring are equal to the odds of the outcome not occurring. In other words, there is an equal chance of the outcome occurring or not occurring.\n",
    "\n",
    "* A positive log odds indicates that the odds of the outcome occurring are greater than the odds of the outcome not occurring. In other words, there is a higher probability of the outcome occurring.\n",
    "\n",
    "* A negative log odds indicates that the odds of the outcome occurring are less than the odds of the outcome not occurring. In other words, there is a lower probability of the outcome occurring.\n",
    "\n",
    "* The magnitude of the log odds tells you the strength of the relationship between the predictor variable and the outcome. For example, a log odds of 1 is stronger than a log odds of 0.5, which is in turn stronger than a log odds of 0.1."
   ]
  },
  {
   "cell_type": "markdown",
   "id": "1cd81e18",
   "metadata": {},
   "source": [
    "**Insights**:\n",
    "\n",
    "* We can see that sales and marketing department compared to customer services department(base line) are more likely to leave (1).\n",
    "* `If the log odds of seniority is positive, it means that as an employee's seniority increases, the probability that they will leave the company also increases.` In other words, employees with more years of experience are more likely to leave the company than those with less experience. This could be due to a variety of factors, such as higher pay, better job opportunities, or simply a desire for a change. It's important to note that this is just a general trend and may not hold true for every individual case.\n",
    "* Length is positive but its log odds are extremely small. `It means that employee tenure has a relatively weak influence on the outcome(attrition) compared to other variables in the model.` However, it is still important to consider this variable as it may still have some influence on the outcome.\n",
    "* The salary's coefficient is extremely small (-0.000002). If the salary coefficient is negative and small in a model, it means that salary `has a relatively weak negative influence on the attrition compared to other variables in the model`. This could suggest that `higher salaries are associated with a lower likelihood of attrition.` From a business standpoint, if the salary coefficient is negative and small, it could indicate that salary is not a strong predictor of the employee retention. This could suggest that other factors, such as work environment, job satisfaction, or job responsibilities, may be more important in influencing the outcome.\n"
   ]
  }
 ],
 "metadata": {
  "kernelspec": {
   "display_name": "Python 3 (ipykernel)",
   "language": "python",
   "name": "python3"
  },
  "language_info": {
   "codemirror_mode": {
    "name": "ipython",
    "version": 3
   },
   "file_extension": ".py",
   "mimetype": "text/x-python",
   "name": "python",
   "nbconvert_exporter": "python",
   "pygments_lexer": "ipython3",
   "version": "3.9.13"
  }
 },
 "nbformat": 4,
 "nbformat_minor": 5
}
